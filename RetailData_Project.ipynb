{
    "metadata": {
        "kernelspec": {
            "name": "SQL",
            "display_name": "SQL",
            "language": "sql"
        },
        "language_info": {
            "name": "sql",
            "version": ""
        }
    },
    "nbformat_minor": 2,
    "nbformat": 4,
    "cells": [
        {
            "cell_type": "markdown",
            "source": [
                "**_Retail Data Project_** \n",
                "\n",
                "**_The data I obtained from the webpage is found_** [here](https:\\www.kaggle.com\\datasets\\bhavikjikadara\\retail-transactional-dataset\\data)**_._**"
            ],
            "metadata": {
                "azdata_cell_guid": "6194c0bd-b1ed-4411-8490-d7ebab233ba6"
            },
            "attachments": {}
        },
        {
            "cell_type": "markdown",
            "source": [
                "**Q: What information is provided about the total sales for different product categories?**"
            ],
            "metadata": {
                "azdata_cell_guid": "8c5b8064-ade7-4753-9ddc-b1ca0caace2f"
            },
            "attachments": {}
        },
        {
            "cell_type": "markdown",
            "source": [
                "<span style=\"color: var(--vscode-foreground);\">This bar chart displays the total sales for different product categories. The categories and their respective total sales are as follows:</span>  \n",
                "\n",
                "- **Electronics**: Just above $90,000,000.\n",
                "- **Grocery**: Just below $90,000,000.\n",
                "- **Clothing**: Approximately $70,000,000.\n",
                "- **Books**: Slightly above $70,000,000.\n",
                "- **Home Decor**: Just below $70,000,000.\n",
                "\n",
                "Each bar is colored in pink, with the length of the bar corresponding to the total sales amount in each product category. The y-axis represents the total sales, while the x-axis represents the different product categories."
            ],
            "metadata": {
                "azdata_cell_guid": "878ca65f-e461-45a6-97ff-76835c1e8e80"
            },
            "attachments": {}
        },
        {
            "cell_type": "code",
            "source": [
                "SELECT Product_Category, SUM(Total_Amount) as Total_Sales\r\n",
                "FROM Sales\r\n",
                "WHERE Product_Category IS NOT NULL AND Total_Amount IS NOT NULL\r\n",
                "GROUP BY Product_Category\r\n",
                "ORDER BY Total_Sales DESC;"
            ],
            "metadata": {
                "azdata_cell_guid": "0320ad95-3cc0-4727-b93a-87894b366393",
                "language": "sql",
                "tags": []
            },
            "outputs": [
                {
                    "output_type": "display_data",
                    "data": {
                        "text/html": "(5 rows affected)"
                    },
                    "metadata": {}
                },
                {
                    "output_type": "display_data",
                    "data": {
                        "text/html": "Total execution time: 00:00:00.646"
                    },
                    "metadata": {}
                },
                {
                    "output_type": "execute_result",
                    "execution_count": 1,
                    "data": {
                        "application/vnd.dataresource+json": {
                            "schema": {
                                "fields": [
                                    {
                                        "name": "Product_Category"
                                    },
                                    {
                                        "name": "Total_Sales"
                                    }
                                ]
                            },
                            "data": [
                                {
                                    "Product_Category": "Electronics",
                                    "Total_Sales": "97398318.24399948"
                                },
                                {
                                    "Product_Category": "Grocery",
                                    "Total_Sales": "91076809.20081711"
                                },
                                {
                                    "Product_Category": "Clothing",
                                    "Total_Sales": "74830333.54456043"
                                },
                                {
                                    "Product_Category": "Books",
                                    "Total_Sales": "74588468.58282375"
                                },
                                {
                                    "Product_Category": "Home Decor",
                                    "Total_Sales": "74291146.9127779"
                                }
                            ]
                        },
                        "text/html": "<table><tr><th>Product_Category</th><th>Total_Sales</th></tr><tr><td>Electronics</td><td>97398318.24399948</td></tr><tr><td>Grocery</td><td>91076809.20081711</td></tr><tr><td>Clothing</td><td>74830333.54456043</td></tr><tr><td>Books</td><td>74588468.58282375</td></tr><tr><td>Home Decor</td><td>74291146.9127779</td></tr></table>"
                    },
                    "metadata": {
                        "azdata_chartOptions": {
                            "type": "bar",
                            "dataDirection": "vertical",
                            "columnsAsLabels": true,
                            "labelFirstColumn": false,
                            "legendPosition": "top",
                            "yAxisLabel": "Total_Sales",
                            "xAxisLabel": "Product_Category"
                        }
                    }
                }
            ],
            "execution_count": 1
        },
        {
            "cell_type": "markdown",
            "source": [
                "**Q: What does the data tell us about the number of orders for different order statuses?**"
            ],
            "metadata": {
                "azdata_cell_guid": "39bd2269-1aa6-47fb-a453-b407e404ced1"
            },
            "attachments": {}
        },
        {
            "cell_type": "markdown",
            "source": [
                "<span style=\"color: var(--vscode-foreground);\">This bar chart displays the number of orders for different order statuses. The order statuses and their respective number of orders are as follows:</span>  \n",
                "\n",
                "- **Delivered**: The highest number of orders, around 130,000.\n",
                "- **Shipped**: The second highest, approximately 80,000 orders.\n",
                "- **Processing**: Around 60,000 orders.\n",
                "- **Pending**: About 40,000 orders.\n",
                "- **NULL**: Very few or no orders.\n",
                "\n",
                "Each bar is colored in pink, with the length of the bar corresponding to the number of orders in each status category. The x-axis represents the number of orders, while the y-axis represents the different order statuses."
            ],
            "metadata": {
                "azdata_cell_guid": "d90c9751-c420-484b-8a5c-5c79548f7690"
            },
            "attachments": {}
        },
        {
            "cell_type": "code",
            "source": [
                "SELECT Order_Status, COUNT(*) as Number_of_Orders\r\n",
                "FROM Sales\r\n",
                "GROUP BY Order_Status\r\n",
                "ORDER BY Number_of_Orders DESC;"
            ],
            "metadata": {
                "azdata_cell_guid": "035d8557-6261-4c32-a0d9-366a61821022",
                "language": "sql"
            },
            "outputs": [
                {
                    "output_type": "display_data",
                    "data": {
                        "text/html": "(5 rows affected)"
                    },
                    "metadata": {}
                },
                {
                    "output_type": "display_data",
                    "data": {
                        "text/html": "Total execution time: 00:00:00.637"
                    },
                    "metadata": {}
                },
                {
                    "output_type": "execute_result",
                    "execution_count": 5,
                    "data": {
                        "application/vnd.dataresource+json": {
                            "schema": {
                                "fields": [
                                    {
                                        "name": "Order_Status"
                                    },
                                    {
                                        "name": "Number_of_Orders"
                                    }
                                ]
                            },
                            "data": [
                                {
                                    "Order_Status": "Delivered",
                                    "Number_of_Orders": "130449"
                                },
                                {
                                    "Order_Status": "Shipped",
                                    "Number_of_Orders": "65024"
                                },
                                {
                                    "Order_Status": "Processing",
                                    "Number_of_Orders": "57199"
                                },
                                {
                                    "Order_Status": "Pending",
                                    "Number_of_Orders": "49103"
                                },
                                {
                                    "Order_Status": "NULL",
                                    "Number_of_Orders": "235"
                                }
                            ]
                        },
                        "text/html": "<table><tr><th>Order_Status</th><th>Number_of_Orders</th></tr><tr><td>Delivered</td><td>130449</td></tr><tr><td>Shipped</td><td>65024</td></tr><tr><td>Processing</td><td>57199</td></tr><tr><td>Pending</td><td>49103</td></tr><tr><td>NULL</td><td>235</td></tr></table>"
                    },
                    "metadata": {
                        "azdata_chartOptions": {
                            "type": "horizontalBar",
                            "dataDirection": "vertical",
                            "columnsAsLabels": true,
                            "labelFirstColumn": false,
                            "legendPosition": "none",
                            "yAxisLabel": "Order_Status",
                            "xAxisLabel": "Number_of_Orders",
                            "encoding": "hex",
                            "imageFormat": "jpeg",
                            "dataType": "number"
                        }
                    }
                }
            ],
            "execution_count": 5
        },
        {
            "cell_type": "markdown",
            "source": [
                "Q: Find the number of orders from each country, excluding those with a null value for the country, and sort the results by the number of orders in descending order?"
            ],
            "metadata": {
                "azdata_cell_guid": "2b05132c-9cb3-453a-be7c-d416ee83bfe9"
            },
            "attachments": {}
        },
        {
            "cell_type": "markdown",
            "source": [
                "- **Selecting Columns:**\n",
                "    \n",
                "    - We want to select the `Country` column to identify each country.\n",
                "    - We use `COUNT(*)` to count the number of orders for each country. We alias this count as `Number_of_Orders` for clarity in the output.\n",
                "- **Filtering Rows:**\n",
                "    \n",
                "    - We need to exclude rows where the `Country` is null. This is achieved using the `WHERE Country IS NOT NULL` condition.\n",
                "- **Grouping Results:**\n",
                "    \n",
                "    - To count the number of orders per country, we use the `GROUP BY Country` clause. This groups the results by each unique country value.\n",
                "- **Ordering Results:**\n",
                "    \n",
                "    - We want to sort the results by the number of orders in descending order. This is done using the `ORDER BY Number_of_Orders DESC` clause."
            ],
            "metadata": {
                "azdata_cell_guid": "64079d70-0456-4209-a7ff-e7fb79951fb2"
            },
            "attachments": {}
        },
        {
            "cell_type": "code",
            "source": [
                "SELECT Country, COUNT(*) as Number_of_Orders\r\n",
                "FROM Sales\r\n",
                "WHERE Country IS NOT NULL\r\n",
                "GROUP BY Country\r\n",
                "ORDER BY Number_of_Orders DESC;"
            ],
            "metadata": {
                "azdata_cell_guid": "bb674fae-c979-4654-a795-86e3e65c7391",
                "language": "sql",
                "tags": []
            },
            "outputs": [
                {
                    "output_type": "display_data",
                    "data": {
                        "text/html": "(5 rows affected)"
                    },
                    "metadata": {}
                },
                {
                    "output_type": "display_data",
                    "data": {
                        "text/html": "Total execution time: 00:00:00.695"
                    },
                    "metadata": {}
                },
                {
                    "output_type": "execute_result",
                    "execution_count": 2,
                    "data": {
                        "application/vnd.dataresource+json": {
                            "schema": {
                                "fields": [
                                    {
                                        "name": "Country"
                                    },
                                    {
                                        "name": "Number_of_Orders"
                                    }
                                ]
                            },
                            "data": [
                                {
                                    "Country": "USA",
                                    "Number_of_Orders": "95223"
                                },
                                {
                                    "Country": "UK",
                                    "Number_of_Orders": "63066"
                                },
                                {
                                    "Country": "Germany",
                                    "Number_of_Orders": "52830"
                                },
                                {
                                    "Country": "Australia",
                                    "Number_of_Orders": "45319"
                                },
                                {
                                    "Country": "Canada",
                                    "Number_of_Orders": "45301"
                                }
                            ]
                        },
                        "text/html": "<table><tr><th>Country</th><th>Number_of_Orders</th></tr><tr><td>USA</td><td>95223</td></tr><tr><td>UK</td><td>63066</td></tr><tr><td>Germany</td><td>52830</td></tr><tr><td>Australia</td><td>45319</td></tr><tr><td>Canada</td><td>45301</td></tr></table>"
                    },
                    "metadata": {
                        "azdata_chartOptions": {
                            "type": "pie",
                            "dataDirection": "vertical",
                            "columnsAsLabels": true,
                            "labelFirstColumn": false,
                            "legendPosition": "left"
                        }
                    }
                }
            ],
            "execution_count": 2
        },
        {
            "cell_type": "markdown",
            "source": [
                "**Q: How do the total sales compare across the USA, UK, Germany, Australia, and Canada based on the given data?**"
            ],
            "metadata": {
                "azdata_cell_guid": "fd3b63b8-1d0b-4e9c-bf10-de3dda82fd61"
            },
            "attachments": {}
        },
        {
            "cell_type": "markdown",
            "source": [
                "A: The graph illustrates the total sales in millions for five countries: USA, UK, Germany, Australia, and Canada. The USA leads with the highest sales, followed by the UK, Germany, Australia, and Canada."
            ],
            "metadata": {
                "azdata_cell_guid": "42e9f58d-1041-4f13-8ffb-77769e2bb256"
            },
            "attachments": {}
        },
        {
            "cell_type": "code",
            "source": [
                "SELECT Country, SUM(Total_Amount) as Total_Sales\r\n",
                "FROM Sales\r\n",
                "WHERE Country IS NOT NULL AND Total_Amount IS NOT NULL\r\n",
                "GROUP BY Country\r\n",
                "ORDER BY Total_Sales DESC;"
            ],
            "metadata": {
                "azdata_cell_guid": "d7da7fde-7c45-473b-84f9-a33ecf33b9fe",
                "language": "sql"
            },
            "outputs": [
                {
                    "output_type": "display_data",
                    "data": {
                        "text/html": "(5 rows affected)"
                    },
                    "metadata": {}
                },
                {
                    "output_type": "display_data",
                    "data": {
                        "text/html": "Total execution time: 00:00:00.486"
                    },
                    "metadata": {}
                },
                {
                    "output_type": "execute_result",
                    "execution_count": 3,
                    "data": {
                        "application/vnd.dataresource+json": {
                            "schema": {
                                "fields": [
                                    {
                                        "name": "Country"
                                    },
                                    {
                                        "name": "Total_Sales"
                                    }
                                ]
                            },
                            "data": [
                                {
                                    "Country": "USA",
                                    "Total_Sales": "129722153.95488453"
                                },
                                {
                                    "Country": "UK",
                                    "Total_Sales": "86667468.17741013"
                                },
                                {
                                    "Country": "Germany",
                                    "Total_Sales": "72129649.2223692"
                                },
                                {
                                    "Country": "Australia",
                                    "Total_Sales": "61994472.37411213"
                                },
                                {
                                    "Country": "Canada",
                                    "Total_Sales": "61703209.44601822"
                                }
                            ]
                        },
                        "text/html": "<table><tr><th>Country</th><th>Total_Sales</th></tr><tr><td>USA</td><td>129722153.95488453</td></tr><tr><td>UK</td><td>86667468.17741013</td></tr><tr><td>Germany</td><td>72129649.2223692</td></tr><tr><td>Australia</td><td>61994472.37411213</td></tr><tr><td>Canada</td><td>61703209.44601822</td></tr></table>"
                    },
                    "metadata": {
                        "azdata_chartOptions": {
                            "type": "line",
                            "dataDirection": "vertical",
                            "columnsAsLabels": true,
                            "labelFirstColumn": false,
                            "legendPosition": "top",
                            "dataType": "number"
                        }
                    }
                }
            ],
            "execution_count": 3
        },
        {
            "cell_type": "markdown",
            "source": [
                "**Q: What information does the data provide about the distribution of payment methods such as Credit Card, Debit Card, Cash, and PayPal?**"
            ],
            "metadata": {
                "azdata_cell_guid": "6f972284-1639-434d-8f9d-c296cbf280db"
            },
            "attachments": {}
        },
        {
            "cell_type": "markdown",
            "source": [
                "A: The doughnut chart shows the proportion of different payment methods used. The chart includes Credit Card, Debit Card, Cash, and PayPal, with each segment representing the share of each payment method."
            ],
            "metadata": {
                "azdata_cell_guid": "3f2a58b0-60f8-450b-a133-e957fe7d4bd2"
            },
            "attachments": {}
        },
        {
            "cell_type": "code",
            "source": [
                "SELECT Payment_Method, COUNT(*) as Number_of_Transactions\r\n",
                "FROM Sales\r\n",
                "WHERE Country = 'USA' AND Payment_Method IS NOT NULL\r\n",
                "GROUP BY Payment_Method\r\n",
                "ORDER BY Number_of_Transactions DESC;"
            ],
            "metadata": {
                "azdata_cell_guid": "70aa3a07-59ed-4363-a595-8516c4af4f70",
                "language": "sql"
            },
            "outputs": [
                {
                    "output_type": "display_data",
                    "data": {
                        "text/html": "(4 rows affected)"
                    },
                    "metadata": {}
                },
                {
                    "output_type": "display_data",
                    "data": {
                        "text/html": "Total execution time: 00:00:00.533"
                    },
                    "metadata": {}
                },
                {
                    "output_type": "execute_result",
                    "execution_count": 8,
                    "data": {
                        "application/vnd.dataresource+json": {
                            "schema": {
                                "fields": [
                                    {
                                        "name": "Payment_Method"
                                    },
                                    {
                                        "name": "Number_of_Transactions"
                                    }
                                ]
                            },
                            "data": [
                                {
                                    "Payment_Method": "Credit Card",
                                    "Number_of_Transactions": "26877"
                                },
                                {
                                    "Payment_Method": "Debit Card",
                                    "Number_of_Transactions": "23954"
                                },
                                {
                                    "Payment_Method": "Cash",
                                    "Number_of_Transactions": "23658"
                                },
                                {
                                    "Payment_Method": "PayPal",
                                    "Number_of_Transactions": "20633"
                                }
                            ]
                        },
                        "text/html": "<table><tr><th>Payment_Method</th><th>Number_of_Transactions</th></tr><tr><td>Credit Card</td><td>26877</td></tr><tr><td>Debit Card</td><td>23954</td></tr><tr><td>Cash</td><td>23658</td></tr><tr><td>PayPal</td><td>20633</td></tr></table>"
                    },
                    "metadata": {
                        "azdata_chartOptions": {
                            "type": "doughnut",
                            "dataDirection": "vertical",
                            "columnsAsLabels": true,
                            "labelFirstColumn": false,
                            "legendPosition": "left"
                        }
                    }
                }
            ],
            "execution_count": 8
        }
    ]
}